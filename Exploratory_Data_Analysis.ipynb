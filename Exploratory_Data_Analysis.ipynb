{
  "nbformat": 4,
  "nbformat_minor": 0,
  "metadata": {
    "colab": {
      "name": "Exploratory Data Analysis",
      "provenance": [],
      "collapsed_sections": [],
      "history_visible": true,
      "authorship_tag": "ABX9TyMMWTfGbdWgk31MPwUQeAcb",
      "include_colab_link": true
    },
    "kernelspec": {
      "name": "python3",
      "display_name": "Python 3"
    },
    "language_info": {
      "name": "python"
    }
  },
  "cells": [
    {
      "cell_type": "markdown",
      "metadata": {
        "id": "view-in-github",
        "colab_type": "text"
      },
      "source": [
        "<a href=\"https://colab.research.google.com/github/Jacquedelest/Marketplace-Phone-Selling-in-2020/blob/master/Exploratory_Data_Analysis.ipynb\" target=\"_parent\"><img src=\"https://colab.research.google.com/assets/colab-badge.svg\" alt=\"Open In Colab\"/></a>"
      ]
    },
    {
      "cell_type": "markdown",
      "metadata": {
        "id": "cuihzCSP3DW0"
      },
      "source": [
        "Import Dataset"
      ]
    },
    {
      "cell_type": "code",
      "metadata": {
        "id": "1Nz8OQzdyYrp"
      },
      "source": [
        "import pandas as pd\n",
        "phone_sales = pd.read_csv(\"marketplace.csv\")"
      ],
      "execution_count": null,
      "outputs": []
    },
    {
      "cell_type": "markdown",
      "metadata": {
        "id": "U7ZBs2Md38-b"
      },
      "source": [
        "Show structure of columns and rows from dataframe"
      ]
    },
    {
      "cell_type": "code",
      "metadata": {
        "colab": {
          "base_uri": "https://localhost:8080/"
        },
        "id": "auTJxP_V30EN",
        "outputId": "bf5ac337-24b2-4e15-f99a-8044d07e47f9"
      },
      "source": [
        "phone_sales.shape"
      ],
      "execution_count": 10,
      "outputs": [
        {
          "output_type": "execute_result",
          "data": {
            "text/plain": [
              "(26014, 16)"
            ]
          },
          "metadata": {
            "tags": []
          },
          "execution_count": 10
        }
      ]
    },
    {
      "cell_type": "markdown",
      "metadata": {
        "id": "kh8GPyLr3Oux"
      },
      "source": [
        "Preview dataframe"
      ]
    },
    {
      "cell_type": "code",
      "metadata": {
        "colab": {
          "base_uri": "https://localhost:8080/",
          "height": 547
        },
        "id": "A1jifv313KSe",
        "outputId": "68e1ac82-b7d2-46de-dd61-1e0d8852622a"
      },
      "source": [
        "phone_sales.head()"
      ],
      "execution_count": 9,
      "outputs": [
        {
          "output_type": "execute_result",
          "data": {
            "text/html": [
              "<div>\n",
              "<style scoped>\n",
              "    .dataframe tbody tr th:only-of-type {\n",
              "        vertical-align: middle;\n",
              "    }\n",
              "\n",
              "    .dataframe tbody tr th {\n",
              "        vertical-align: top;\n",
              "    }\n",
              "\n",
              "    .dataframe thead th {\n",
              "        text-align: right;\n",
              "    }\n",
              "</style>\n",
              "<table border=\"1\" class=\"dataframe\">\n",
              "  <thead>\n",
              "    <tr style=\"text-align: right;\">\n",
              "      <th></th>\n",
              "      <th>date</th>\n",
              "      <th>sku_name</th>\n",
              "      <th>product_id</th>\n",
              "      <th>merchant_code</th>\n",
              "      <th>merchant_badge</th>\n",
              "      <th>product_type</th>\n",
              "      <th>merchant_city</th>\n",
              "      <th>cod</th>\n",
              "      <th>price</th>\n",
              "      <th>stock</th>\n",
              "      <th>daily_gmv</th>\n",
              "      <th>daily_sold</th>\n",
              "      <th>daily_view</th>\n",
              "      <th>rating</th>\n",
              "      <th>total_review</th>\n",
              "      <th>total_sold</th>\n",
              "    </tr>\n",
              "  </thead>\n",
              "  <tbody>\n",
              "    <tr>\n",
              "      <th>0</th>\n",
              "      <td>3/11/2020</td>\n",
              "      <td>HUAWEI NOVA 5T RAM 8GB INTERNAL 128GB</td>\n",
              "      <td>E1</td>\n",
              "      <td>1.0</td>\n",
              "      <td>PM</td>\n",
              "      <td>Huawei nova 5T</td>\n",
              "      <td>Kota Kediri</td>\n",
              "      <td>False</td>\n",
              "      <td>4500000</td>\n",
              "      <td>1</td>\n",
              "      <td>0</td>\n",
              "      <td>0</td>\n",
              "      <td>0</td>\n",
              "      <td>95</td>\n",
              "      <td>37</td>\n",
              "      <td>74</td>\n",
              "    </tr>\n",
              "    <tr>\n",
              "      <th>1</th>\n",
              "      <td>3/26/2020</td>\n",
              "      <td>Huawei Nova 5T (8GB/128GB) - Crush Green</td>\n",
              "      <td>F1</td>\n",
              "      <td>2.0</td>\n",
              "      <td>OS</td>\n",
              "      <td>Huawei nova 5T</td>\n",
              "      <td>Kota Administrasi Jakarta Utara</td>\n",
              "      <td>False</td>\n",
              "      <td>4999000</td>\n",
              "      <td>5</td>\n",
              "      <td>0</td>\n",
              "      <td>0</td>\n",
              "      <td>0</td>\n",
              "      <td>0</td>\n",
              "      <td>0</td>\n",
              "      <td>2</td>\n",
              "    </tr>\n",
              "    <tr>\n",
              "      <th>2</th>\n",
              "      <td>3/23/2020</td>\n",
              "      <td>HUAWEI NOVA 5T RAM 8/128 GARANSI RESMI HUAWEI ...</td>\n",
              "      <td>F2</td>\n",
              "      <td>3.0</td>\n",
              "      <td>PM</td>\n",
              "      <td>Huawei nova 5T</td>\n",
              "      <td>Kota Administrasi Jakarta Barat</td>\n",
              "      <td>False</td>\n",
              "      <td>4589900</td>\n",
              "      <td>16</td>\n",
              "      <td>0</td>\n",
              "      <td>0</td>\n",
              "      <td>0</td>\n",
              "      <td>96</td>\n",
              "      <td>12</td>\n",
              "      <td>19</td>\n",
              "    </tr>\n",
              "    <tr>\n",
              "      <th>3</th>\n",
              "      <td>4/29/2020</td>\n",
              "      <td>HUAWEI NOVA 5T RAM 8/128GB GARANSI RESMI HUAWE...</td>\n",
              "      <td>E2</td>\n",
              "      <td>4.0</td>\n",
              "      <td>OS</td>\n",
              "      <td>Huawei nova 5T</td>\n",
              "      <td>Kota Surabaya</td>\n",
              "      <td>False</td>\n",
              "      <td>4698500</td>\n",
              "      <td>5</td>\n",
              "      <td>0</td>\n",
              "      <td>0</td>\n",
              "      <td>0</td>\n",
              "      <td>99</td>\n",
              "      <td>42</td>\n",
              "      <td>63</td>\n",
              "    </tr>\n",
              "    <tr>\n",
              "      <th>4</th>\n",
              "      <td>4/15/2020</td>\n",
              "      <td>nokia 3310 reborn</td>\n",
              "      <td>C1</td>\n",
              "      <td>5.0</td>\n",
              "      <td>RM</td>\n",
              "      <td>Nokia 1</td>\n",
              "      <td>Kab. Bangkalan</td>\n",
              "      <td>True</td>\n",
              "      <td>1000000</td>\n",
              "      <td>999999</td>\n",
              "      <td>0</td>\n",
              "      <td>0</td>\n",
              "      <td>3</td>\n",
              "      <td>100</td>\n",
              "      <td>18</td>\n",
              "      <td>82</td>\n",
              "    </tr>\n",
              "  </tbody>\n",
              "</table>\n",
              "</div>"
            ],
            "text/plain": [
              "        date  ... total_sold\n",
              "0  3/11/2020  ...         74\n",
              "1  3/26/2020  ...          2\n",
              "2  3/23/2020  ...         19\n",
              "3  4/29/2020  ...         63\n",
              "4  4/15/2020  ...         82\n",
              "\n",
              "[5 rows x 16 columns]"
            ]
          },
          "metadata": {
            "tags": []
          },
          "execution_count": 9
        }
      ]
    },
    {
      "cell_type": "markdown",
      "metadata": {
        "id": "cdQ0FW06LTXY"
      },
      "source": [
        "**The data is a data phone selling on January to May 2020, fetched daily by crawling the engine.**\n",
        "\n",
        "Column explanations:\n",
        "\n",
        "`date `is the date which a product of a merchant being recorded in one day.\n",
        "\n",
        "`sku_name` is the name of the product appear in marketplace.\n",
        "\n",
        "`product_id` is product type recorded in ID.\n",
        "\n",
        "`merchant_code` is merchant shops symbollized by code.\n",
        "\n",
        "`merchant_badge` is type of merchant.\n",
        "\n",
        "`product_type` is the product being sold in a certain merchant.\n",
        "\n",
        "`merchant_city` is origin city of merchant.\n",
        "\n",
        "`cod` is available cash payment when the product arrived.\n",
        "\n",
        "`price` is product pricing in the recorded date.\n",
        "\n",
        "`stock` is stock of product in the recorded date.\n",
        "\n",
        "`daily_gmv` is daily gross merchandise value.\n",
        "\n",
        "`daily_sold` is number of daily sold products.\n",
        "\n",
        "`daily_view` is number of daily view products.\n",
        "\n",
        "`rating` is product rating.\n",
        "\n",
        "`total_view` is total product view.\n",
        "\n",
        "`total_sold` is total sold product."
      ]
    },
    {
      "cell_type": "markdown",
      "metadata": {
        "id": "GVk5WPeX5bcU"
      },
      "source": [
        "Descriptive statistic of dataframe"
      ]
    },
    {
      "cell_type": "code",
      "metadata": {
        "colab": {
          "base_uri": "https://localhost:8080/",
          "height": 317
        },
        "id": "YM74SKdw5njX",
        "outputId": "144b1c33-d79d-4cfe-8d19-64421acc35bb"
      },
      "source": [
        ".phone_sales.describe()"
      ],
      "execution_count": 11,
      "outputs": [
        {
          "output_type": "execute_result",
          "data": {
            "text/html": [
              "<div>\n",
              "<style scoped>\n",
              "    .dataframe tbody tr th:only-of-type {\n",
              "        vertical-align: middle;\n",
              "    }\n",
              "\n",
              "    .dataframe tbody tr th {\n",
              "        vertical-align: top;\n",
              "    }\n",
              "\n",
              "    .dataframe thead th {\n",
              "        text-align: right;\n",
              "    }\n",
              "</style>\n",
              "<table border=\"1\" class=\"dataframe\">\n",
              "  <thead>\n",
              "    <tr style=\"text-align: right;\">\n",
              "      <th></th>\n",
              "      <th>merchant_code</th>\n",
              "      <th>price</th>\n",
              "      <th>stock</th>\n",
              "      <th>daily_gmv</th>\n",
              "      <th>daily_sold</th>\n",
              "      <th>daily_view</th>\n",
              "      <th>rating</th>\n",
              "      <th>total_review</th>\n",
              "      <th>total_sold</th>\n",
              "    </tr>\n",
              "  </thead>\n",
              "  <tbody>\n",
              "    <tr>\n",
              "      <th>count</th>\n",
              "      <td>26007.000000</td>\n",
              "      <td>2.601400e+04</td>\n",
              "      <td>26014.000000</td>\n",
              "      <td>2.601400e+04</td>\n",
              "      <td>26014.000000</td>\n",
              "      <td>26014.000000</td>\n",
              "      <td>26014.000000</td>\n",
              "      <td>26014.000000</td>\n",
              "      <td>26014.000000</td>\n",
              "    </tr>\n",
              "    <tr>\n",
              "      <th>mean</th>\n",
              "      <td>1562.011112</td>\n",
              "      <td>3.890569e+06</td>\n",
              "      <td>344553.702083</td>\n",
              "      <td>1.582145e+06</td>\n",
              "      <td>0.737257</td>\n",
              "      <td>58.814331</td>\n",
              "      <td>98.339279</td>\n",
              "      <td>46.343969</td>\n",
              "      <td>152.429807</td>\n",
              "    </tr>\n",
              "    <tr>\n",
              "      <th>std</th>\n",
              "      <td>1041.170081</td>\n",
              "      <td>3.868790e+06</td>\n",
              "      <td>474104.795100</td>\n",
              "      <td>1.603716e+07</td>\n",
              "      <td>7.453432</td>\n",
              "      <td>473.091001</td>\n",
              "      <td>5.485507</td>\n",
              "      <td>91.149600</td>\n",
              "      <td>321.367828</td>\n",
              "    </tr>\n",
              "    <tr>\n",
              "      <th>min</th>\n",
              "      <td>1.000000</td>\n",
              "      <td>5.350000e+05</td>\n",
              "      <td>0.000000</td>\n",
              "      <td>-2.342700e+08</td>\n",
              "      <td>-82.000000</td>\n",
              "      <td>0.000000</td>\n",
              "      <td>0.000000</td>\n",
              "      <td>0.000000</td>\n",
              "      <td>0.000000</td>\n",
              "    </tr>\n",
              "    <tr>\n",
              "      <th>25%</th>\n",
              "      <td>854.000000</td>\n",
              "      <td>1.770000e+06</td>\n",
              "      <td>4.000000</td>\n",
              "      <td>0.000000e+00</td>\n",
              "      <td>0.000000</td>\n",
              "      <td>2.000000</td>\n",
              "      <td>98.000000</td>\n",
              "      <td>10.000000</td>\n",
              "      <td>27.000000</td>\n",
              "    </tr>\n",
              "    <tr>\n",
              "      <th>50%</th>\n",
              "      <td>1252.000000</td>\n",
              "      <td>2.599999e+06</td>\n",
              "      <td>37.000000</td>\n",
              "      <td>0.000000e+00</td>\n",
              "      <td>0.000000</td>\n",
              "      <td>5.000000</td>\n",
              "      <td>100.000000</td>\n",
              "      <td>24.000000</td>\n",
              "      <td>63.000000</td>\n",
              "    </tr>\n",
              "    <tr>\n",
              "      <th>75%</th>\n",
              "      <td>2287.000000</td>\n",
              "      <td>4.093925e+06</td>\n",
              "      <td>999972.000000</td>\n",
              "      <td>0.000000e+00</td>\n",
              "      <td>0.000000</td>\n",
              "      <td>21.000000</td>\n",
              "      <td>100.000000</td>\n",
              "      <td>44.000000</td>\n",
              "      <td>144.000000</td>\n",
              "    </tr>\n",
              "    <tr>\n",
              "      <th>max</th>\n",
              "      <td>4247.000000</td>\n",
              "      <td>5.000000e+07</td>\n",
              "      <td>999999.000000</td>\n",
              "      <td>9.415350e+08</td>\n",
              "      <td>441.000000</td>\n",
              "      <td>38993.000000</td>\n",
              "      <td>100.000000</td>\n",
              "      <td>2842.000000</td>\n",
              "      <td>7724.000000</td>\n",
              "    </tr>\n",
              "  </tbody>\n",
              "</table>\n",
              "</div>"
            ],
            "text/plain": [
              "       merchant_code         price  ...  total_review    total_sold\n",
              "count   26007.000000  2.601400e+04  ...  26014.000000  26014.000000\n",
              "mean     1562.011112  3.890569e+06  ...     46.343969    152.429807\n",
              "std      1041.170081  3.868790e+06  ...     91.149600    321.367828\n",
              "min         1.000000  5.350000e+05  ...      0.000000      0.000000\n",
              "25%       854.000000  1.770000e+06  ...     10.000000     27.000000\n",
              "50%      1252.000000  2.599999e+06  ...     24.000000     63.000000\n",
              "75%      2287.000000  4.093925e+06  ...     44.000000    144.000000\n",
              "max      4247.000000  5.000000e+07  ...   2842.000000   7724.000000\n",
              "\n",
              "[8 rows x 9 columns]"
            ]
          },
          "metadata": {
            "tags": []
          },
          "execution_count": 11
        }
      ]
    },
    {
      "cell_type": "code",
      "metadata": {
        "colab": {
          "base_uri": "https://localhost:8080/"
        },
        "id": "kYAtV_g8CMng",
        "outputId": "9240b10e-3d86-4963-8bd1-4915cc9a59e8"
      },
      "source": [
        "phone_sales.var()"
      ],
      "execution_count": 32,
      "outputs": [
        {
          "output_type": "execute_result",
          "data": {
            "text/plain": [
              "merchant_code    1.084035e+06\n",
              "cod              1.109916e-02\n",
              "price            1.496754e+13\n",
              "stock            2.247754e+11\n",
              "daily_gmv        2.571904e+14\n",
              "daily_sold       5.555365e+01\n",
              "daily_view       2.238151e+05\n",
              "rating           3.009078e+01\n",
              "total_review     8.308250e+03\n",
              "total_sold       1.032773e+05\n",
              "dtype: float64"
            ]
          },
          "metadata": {
            "tags": []
          },
          "execution_count": 32
        }
      ]
    },
    {
      "cell_type": "code",
      "metadata": {
        "colab": {
          "base_uri": "https://localhost:8080/",
          "height": 173
        },
        "id": "eCrQ9gZO5-KS",
        "outputId": "0d5faa5a-2b5d-402a-95cc-1b1e5a7c4921"
      },
      "source": [
        "phone_sales.describe(include='O')"
      ],
      "execution_count": 12,
      "outputs": [
        {
          "output_type": "execute_result",
          "data": {
            "text/html": [
              "<div>\n",
              "<style scoped>\n",
              "    .dataframe tbody tr th:only-of-type {\n",
              "        vertical-align: middle;\n",
              "    }\n",
              "\n",
              "    .dataframe tbody tr th {\n",
              "        vertical-align: top;\n",
              "    }\n",
              "\n",
              "    .dataframe thead th {\n",
              "        text-align: right;\n",
              "    }\n",
              "</style>\n",
              "<table border=\"1\" class=\"dataframe\">\n",
              "  <thead>\n",
              "    <tr style=\"text-align: right;\">\n",
              "      <th></th>\n",
              "      <th>date</th>\n",
              "      <th>sku_name</th>\n",
              "      <th>product_id</th>\n",
              "      <th>merchant_badge</th>\n",
              "      <th>product_type</th>\n",
              "      <th>merchant_city</th>\n",
              "    </tr>\n",
              "  </thead>\n",
              "  <tbody>\n",
              "    <tr>\n",
              "      <th>count</th>\n",
              "      <td>26014</td>\n",
              "      <td>26014</td>\n",
              "      <td>26014</td>\n",
              "      <td>26014</td>\n",
              "      <td>26014</td>\n",
              "      <td>26014</td>\n",
              "    </tr>\n",
              "    <tr>\n",
              "      <th>unique</th>\n",
              "      <td>41</td>\n",
              "      <td>11397</td>\n",
              "      <td>12120</td>\n",
              "      <td>3</td>\n",
              "      <td>361</td>\n",
              "      <td>136</td>\n",
              "    </tr>\n",
              "    <tr>\n",
              "      <th>top</th>\n",
              "      <td>4/19/2020</td>\n",
              "      <td>Apple Iphone 7 32Gb Garansi Distributor 1 tahun</td>\n",
              "      <td>F1287</td>\n",
              "      <td>PM</td>\n",
              "      <td>Realme 6</td>\n",
              "      <td>Kota Administrasi Jakarta Barat</td>\n",
              "    </tr>\n",
              "    <tr>\n",
              "      <th>freq</th>\n",
              "      <td>915</td>\n",
              "      <td>33</td>\n",
              "      <td>11</td>\n",
              "      <td>20353</td>\n",
              "      <td>2161</td>\n",
              "      <td>4676</td>\n",
              "    </tr>\n",
              "  </tbody>\n",
              "</table>\n",
              "</div>"
            ],
            "text/plain": [
              "             date  ...                    merchant_city\n",
              "count       26014  ...                            26014\n",
              "unique         41  ...                              136\n",
              "top     4/19/2020  ...  Kota Administrasi Jakarta Barat\n",
              "freq          915  ...                             4676\n",
              "\n",
              "[4 rows x 6 columns]"
            ]
          },
          "metadata": {
            "tags": []
          },
          "execution_count": 12
        }
      ]
    },
    {
      "cell_type": "markdown",
      "metadata": {
        "id": "OOLhrzmaB1Dd"
      },
      "source": [
        "Data distribution with histogram"
      ]
    },
    {
      "cell_type": "code",
      "metadata": {
        "colab": {
          "base_uri": "https://localhost:8080/",
          "height": 333
        },
        "id": "9R8-Nivp9K84",
        "outputId": "f40b6173-7585-4b80-8b94-7368ce5d67f0"
      },
      "source": [
        "import matplotlib.pyplot as plt\n",
        "phone_sales.plot.hist(figsize=(4,5), bins=10)\n",
        "plt.show()"
      ],
      "execution_count": 46,
      "outputs": [
        {
          "output_type": "display_data",
          "data": {
            "image/png": "[encoded data removed]",
            "text/plain": [
              "<Figure size 288x360 with 1 Axes>"
            ]
          },
          "metadata": {
            "tags": [],
            "needs_background": "light"
          }
        }
      ]
    },
    {
      "cell_type": "markdown",
      "metadata": {
        "id": "v1caSl-6FBsk"
      },
      "source": [
        "Find outlier"
      ]
    },
    {
      "cell_type": "code",
      "metadata": {
        "colab": {
          "base_uri": "https://localhost:8080/"
        },
        "id": "tnA1hjbwEb-_",
        "outputId": "0378e13b-4314-4d2d-fa33-41acd3bd96f3"
      },
      "source": [
        "Q1 = phone_sales.quantile(0.25)\n",
        "Q3 = phone_sales.quantile(0.75)\n",
        "IQR = Q3 - Q1\n",
        "print(IQR)"
      ],
      "execution_count": 35,
      "outputs": [
        {
          "output_type": "stream",
          "text": [
            "merchant_code       1433.0\n",
            "cod                    0.0\n",
            "price            2323925.0\n",
            "stock             999968.0\n",
            "daily_gmv              0.0\n",
            "daily_sold             0.0\n",
            "daily_view            19.0\n",
            "rating                 2.0\n",
            "total_review          34.0\n",
            "total_sold           117.0\n",
            "dtype: float64\n"
          ],
          "name": "stdout"
        }
      ]
    },
    {
      "cell_type": "code",
      "metadata": {
        "colab": {
          "base_uri": "https://localhost:8080/",
          "height": 439
        },
        "id": "Nb9R5mWfFNdW",
        "outputId": "f27bd0e8-b2b6-4bd1-fb97-0c92a0dc172c"
      },
      "source": [
        "(phone_sales < (Q1 - 1.5*IQR)) | (phone_sales > (Q3 + 1.5*IQR))"
      ],
      "execution_count": 41,
      "outputs": [
        {
          "output_type": "execute_result",
          "data": {
            "text/html": [
              "<div>\n",
              "<style scoped>\n",
              "    .dataframe tbody tr th:only-of-type {\n",
              "        vertical-align: middle;\n",
              "    }\n",
              "\n",
              "    .dataframe tbody tr th {\n",
              "        vertical-align: top;\n",
              "    }\n",
              "\n",
              "    .dataframe thead th {\n",
              "        text-align: right;\n",
              "    }\n",
              "</style>\n",
              "<table border=\"1\" class=\"dataframe\">\n",
              "  <thead>\n",
              "    <tr style=\"text-align: right;\">\n",
              "      <th></th>\n",
              "      <th>cod</th>\n",
              "      <th>daily_gmv</th>\n",
              "      <th>daily_sold</th>\n",
              "      <th>daily_view</th>\n",
              "      <th>date</th>\n",
              "      <th>merchant_badge</th>\n",
              "      <th>merchant_city</th>\n",
              "      <th>merchant_code</th>\n",
              "      <th>price</th>\n",
              "      <th>product_id</th>\n",
              "      <th>product_type</th>\n",
              "      <th>rating</th>\n",
              "      <th>sku_name</th>\n",
              "      <th>stock</th>\n",
              "      <th>total_review</th>\n",
              "      <th>total_sold</th>\n",
              "    </tr>\n",
              "  </thead>\n",
              "  <tbody>\n",
              "    <tr>\n",
              "      <th>0</th>\n",
              "      <td>False</td>\n",
              "      <td>False</td>\n",
              "      <td>False</td>\n",
              "      <td>False</td>\n",
              "      <td>False</td>\n",
              "      <td>False</td>\n",
              "      <td>False</td>\n",
              "      <td>False</td>\n",
              "      <td>False</td>\n",
              "      <td>False</td>\n",
              "      <td>False</td>\n",
              "      <td>False</td>\n",
              "      <td>False</td>\n",
              "      <td>False</td>\n",
              "      <td>False</td>\n",
              "      <td>False</td>\n",
              "    </tr>\n",
              "    <tr>\n",
              "      <th>1</th>\n",
              "      <td>False</td>\n",
              "      <td>False</td>\n",
              "      <td>False</td>\n",
              "      <td>False</td>\n",
              "      <td>False</td>\n",
              "      <td>False</td>\n",
              "      <td>False</td>\n",
              "      <td>False</td>\n",
              "      <td>False</td>\n",
              "      <td>False</td>\n",
              "      <td>False</td>\n",
              "      <td>True</td>\n",
              "      <td>False</td>\n",
              "      <td>False</td>\n",
              "      <td>False</td>\n",
              "      <td>False</td>\n",
              "    </tr>\n",
              "    <tr>\n",
              "      <th>2</th>\n",
              "      <td>False</td>\n",
              "      <td>False</td>\n",
              "      <td>False</td>\n",
              "      <td>False</td>\n",
              "      <td>False</td>\n",
              "      <td>False</td>\n",
              "      <td>False</td>\n",
              "      <td>False</td>\n",
              "      <td>False</td>\n",
              "      <td>False</td>\n",
              "      <td>False</td>\n",
              "      <td>False</td>\n",
              "      <td>False</td>\n",
              "      <td>False</td>\n",
              "      <td>False</td>\n",
              "      <td>False</td>\n",
              "    </tr>\n",
              "    <tr>\n",
              "      <th>3</th>\n",
              "      <td>False</td>\n",
              "      <td>False</td>\n",
              "      <td>False</td>\n",
              "      <td>False</td>\n",
              "      <td>False</td>\n",
              "      <td>False</td>\n",
              "      <td>False</td>\n",
              "      <td>False</td>\n",
              "      <td>False</td>\n",
              "      <td>False</td>\n",
              "      <td>False</td>\n",
              "      <td>False</td>\n",
              "      <td>False</td>\n",
              "      <td>False</td>\n",
              "      <td>False</td>\n",
              "      <td>False</td>\n",
              "    </tr>\n",
              "    <tr>\n",
              "      <th>4</th>\n",
              "      <td>True</td>\n",
              "      <td>False</td>\n",
              "      <td>False</td>\n",
              "      <td>False</td>\n",
              "      <td>False</td>\n",
              "      <td>False</td>\n",
              "      <td>False</td>\n",
              "      <td>False</td>\n",
              "      <td>False</td>\n",
              "      <td>False</td>\n",
              "      <td>False</td>\n",
              "      <td>False</td>\n",
              "      <td>False</td>\n",
              "      <td>False</td>\n",
              "      <td>False</td>\n",
              "      <td>False</td>\n",
              "    </tr>\n",
              "    <tr>\n",
              "      <th>...</th>\n",
              "      <td>...</td>\n",
              "      <td>...</td>\n",
              "      <td>...</td>\n",
              "      <td>...</td>\n",
              "      <td>...</td>\n",
              "      <td>...</td>\n",
              "      <td>...</td>\n",
              "      <td>...</td>\n",
              "      <td>...</td>\n",
              "      <td>...</td>\n",
              "      <td>...</td>\n",
              "      <td>...</td>\n",
              "      <td>...</td>\n",
              "      <td>...</td>\n",
              "      <td>...</td>\n",
              "      <td>...</td>\n",
              "    </tr>\n",
              "    <tr>\n",
              "      <th>26009</th>\n",
              "      <td>False</td>\n",
              "      <td>False</td>\n",
              "      <td>False</td>\n",
              "      <td>False</td>\n",
              "      <td>False</td>\n",
              "      <td>False</td>\n",
              "      <td>False</td>\n",
              "      <td>False</td>\n",
              "      <td>False</td>\n",
              "      <td>False</td>\n",
              "      <td>False</td>\n",
              "      <td>False</td>\n",
              "      <td>False</td>\n",
              "      <td>False</td>\n",
              "      <td>True</td>\n",
              "      <td>False</td>\n",
              "    </tr>\n",
              "    <tr>\n",
              "      <th>26010</th>\n",
              "      <td>False</td>\n",
              "      <td>True</td>\n",
              "      <td>True</td>\n",
              "      <td>True</td>\n",
              "      <td>False</td>\n",
              "      <td>False</td>\n",
              "      <td>False</td>\n",
              "      <td>False</td>\n",
              "      <td>False</td>\n",
              "      <td>False</td>\n",
              "      <td>False</td>\n",
              "      <td>False</td>\n",
              "      <td>False</td>\n",
              "      <td>False</td>\n",
              "      <td>False</td>\n",
              "      <td>False</td>\n",
              "    </tr>\n",
              "    <tr>\n",
              "      <th>26011</th>\n",
              "      <td>False</td>\n",
              "      <td>False</td>\n",
              "      <td>False</td>\n",
              "      <td>True</td>\n",
              "      <td>False</td>\n",
              "      <td>False</td>\n",
              "      <td>False</td>\n",
              "      <td>False</td>\n",
              "      <td>False</td>\n",
              "      <td>False</td>\n",
              "      <td>False</td>\n",
              "      <td>False</td>\n",
              "      <td>False</td>\n",
              "      <td>False</td>\n",
              "      <td>True</td>\n",
              "      <td>True</td>\n",
              "    </tr>\n",
              "    <tr>\n",
              "      <th>26012</th>\n",
              "      <td>False</td>\n",
              "      <td>True</td>\n",
              "      <td>True</td>\n",
              "      <td>True</td>\n",
              "      <td>False</td>\n",
              "      <td>False</td>\n",
              "      <td>False</td>\n",
              "      <td>False</td>\n",
              "      <td>False</td>\n",
              "      <td>False</td>\n",
              "      <td>False</td>\n",
              "      <td>False</td>\n",
              "      <td>False</td>\n",
              "      <td>False</td>\n",
              "      <td>False</td>\n",
              "      <td>False</td>\n",
              "    </tr>\n",
              "    <tr>\n",
              "      <th>26013</th>\n",
              "      <td>False</td>\n",
              "      <td>True</td>\n",
              "      <td>True</td>\n",
              "      <td>True</td>\n",
              "      <td>False</td>\n",
              "      <td>False</td>\n",
              "      <td>False</td>\n",
              "      <td>False</td>\n",
              "      <td>False</td>\n",
              "      <td>False</td>\n",
              "      <td>False</td>\n",
              "      <td>False</td>\n",
              "      <td>False</td>\n",
              "      <td>False</td>\n",
              "      <td>False</td>\n",
              "      <td>False</td>\n",
              "    </tr>\n",
              "  </tbody>\n",
              "</table>\n",
              "<p>26014 rows × 16 columns</p>\n",
              "</div>"
            ],
            "text/plain": [
              "         cod  daily_gmv  daily_sold  ...  stock  total_review  total_sold\n",
              "0      False      False       False  ...  False         False       False\n",
              "1      False      False       False  ...  False         False       False\n",
              "2      False      False       False  ...  False         False       False\n",
              "3      False      False       False  ...  False         False       False\n",
              "4       True      False       False  ...  False         False       False\n",
              "...      ...        ...         ...  ...    ...           ...         ...\n",
              "26009  False      False       False  ...  False          True       False\n",
              "26010  False       True        True  ...  False         False       False\n",
              "26011  False      False       False  ...  False          True        True\n",
              "26012  False       True        True  ...  False         False       False\n",
              "26013  False       True        True  ...  False         False       False\n",
              "\n",
              "[26014 rows x 16 columns]"
            ]
          },
          "metadata": {
            "tags": []
          },
          "execution_count": 41
        }
      ]
    },
    {
      "cell_type": "markdown",
      "metadata": {
        "id": "nsT3sNHqHGll"
      },
      "source": [
        "Rename columns"
      ]
    },
    {
      "cell_type": "code",
      "metadata": {
        "id": "8TsiGs19HGMw"
      },
      "source": [
        "phone_sales.rename(columns={'date' : 'Date',\n",
        "                            'sku_name' : 'Product Name',\n",
        "                            'product_id' : 'Product ID',\n",
        "                            'merchant_code' : 'Merchant Code',\n",
        "                            'merchant_badge' : 'Merchant Badge',\n",
        "                            'product_type' : 'Product Type',\n",
        "                            'merchant_city' : 'Merchant City',\n",
        "                            'cod' : 'Cash on Delivery',\n",
        "                            'price' : 'Price',\n",
        "                            'stock' : 'Stock',\n",
        "                            'daily_gmv' : 'Daily GMV',\n",
        "                            'daily_sold' : 'Daily Sold',\n",
        "                            'daily_view' : 'Daily View',\n",
        "                            'raiting' : 'Raiting',\n",
        "                            'total_review' : 'Total View',\n",
        "                            'total_sold' : 'Total Sold'\n",
        "                            }, \n",
        "                   inplace=True)"
      ],
      "execution_count": 51,
      "outputs": []
    },
    {
      "cell_type": "markdown",
      "metadata": {
        "id": "Ig_Z-9OhQy7x"
      },
      "source": [
        "Summary by aggregated columns"
      ]
    },
    {
      "cell_type": "code",
      "metadata": {
        "colab": {
          "base_uri": "https://localhost:8080/"
        },
        "id": "66Eo-wMeS_O3",
        "outputId": "976ccced-414f-4f75-c37f-0c463c2b690d"
      },
      "source": [
        "#sum of sold each phones\n",
        "phone_sales['Total Sold'].groupby(phone_sales['Product Type']).sum()"
      ],
      "execution_count": 64,
      "outputs": [
        {
          "output_type": "execute_result",
          "data": {
            "text/plain": [
              "Product Type\n",
              "Apple iPhone                 597\n",
              "Apple iPhone 11             6209\n",
              "Apple iPhone 11 Pro         4473\n",
              "Apple iPhone 11 Pro Max     7087\n",
              "Apple iPhone 4               130\n",
              "                           ...  \n",
              "vivo Y93                   17705\n",
              "vivo Y95                   15709\n",
              "vivo Z1                       29\n",
              "vivo Z1Pro                 15567\n",
              "vivo iQOO Pro               1602\n",
              "Name: Total Sold, Length: 361, dtype: int64"
            ]
          },
          "metadata": {
            "tags": []
          },
          "execution_count": 64
        }
      ]
    },
    {
      "cell_type": "code",
      "metadata": {
        "colab": {
          "base_uri": "https://localhost:8080/"
        },
        "id": "Dhy9b7L5RAfB",
        "outputId": "d78990e7-bb4b-4ba7-e1f9-07a1e4a6c6f8"
      },
      "source": [
        "#mean of sold each phones\n",
        "phone_sales['Total Sold'].groupby(phone_sales['Product Type']).mean()"
      ],
      "execution_count": 63,
      "outputs": [
        {
          "output_type": "execute_result",
          "data": {
            "text/plain": [
              "Product Type\n",
              "Apple iPhone                19.258065\n",
              "Apple iPhone 11             25.342857\n",
              "Apple iPhone 11 Pro         27.441718\n",
              "Apple iPhone 11 Pro Max     31.220264\n",
              "Apple iPhone 4               6.842105\n",
              "                              ...    \n",
              "vivo Y93                   158.080357\n",
              "vivo Y95                   201.397436\n",
              "vivo Z1                     29.000000\n",
              "vivo Z1Pro                 127.598361\n",
              "vivo iQOO Pro              100.125000\n",
              "Name: Total Sold, Length: 361, dtype: float64"
            ]
          },
          "metadata": {
            "tags": []
          },
          "execution_count": 63
        }
      ]
    },
    {
      "cell_type": "code",
      "metadata": {
        "colab": {
          "base_uri": "https://localhost:8080/"
        },
        "id": "kH7aGrhrT3Un",
        "outputId": "7755c985-991e-4a99-b460-56b6410559c6"
      },
      "source": [
        "#sum of sold each phones by merchant cities\n",
        "phone_sales['Total Sold'].groupby([phone_sales['Merchant City'], phone_sales['Product Type']]).sum()"
      ],
      "execution_count": 67,
      "outputs": [
        {
          "output_type": "execute_result",
          "data": {
            "text/plain": [
              "Merchant City    Product Type              \n",
              "Kab. Badung      Apple iPhone 6                  24\n",
              "                 Apple iPhone 6s Plus             4\n",
              "                 Apple iPhone 8 Plus              4\n",
              "                 Apple iPhone X                  12\n",
              "                 Oppo A9                        122\n",
              "                                               ... \n",
              "Kota Yogyakarta  Xiaomi Redmi Note 8 Pro        430\n",
              "                 Xiaomi Redmi S2 (Redmi Y2)    1305\n",
              "                 vivo V15                       279\n",
              "                 vivo V9                        190\n",
              "                 vivo Y17                        85\n",
              "Name: Total Sold, Length: 3089, dtype: int64"
            ]
          },
          "metadata": {
            "tags": []
          },
          "execution_count": 67
        }
      ]
    },
    {
      "cell_type": "code",
      "metadata": {
        "colab": {
          "base_uri": "https://localhost:8080/"
        },
        "id": "4RyJAdSlUl4y",
        "outputId": "71b1bac4-2b04-4616-fd85-a8fcf2d1f253"
      },
      "source": [
        "#mean of sold each phones by merchant cities\n",
        "phone_sales['Total Sold'].groupby([phone_sales['Merchant City'], phone_sales['Product Type']]).mean()"
      ],
      "execution_count": 68,
      "outputs": [
        {
          "output_type": "execute_result",
          "data": {
            "text/plain": [
              "Merchant City    Product Type              \n",
              "Kab. Badung      Apple iPhone 6                 24.000000\n",
              "                 Apple iPhone 6s Plus            2.000000\n",
              "                 Apple iPhone 8 Plus             4.000000\n",
              "                 Apple iPhone X                  2.400000\n",
              "                 Oppo A9                        40.666667\n",
              "                                                  ...    \n",
              "Kota Yogyakarta  Xiaomi Redmi Note 8 Pro        53.750000\n",
              "                 Xiaomi Redmi S2 (Redmi Y2)    261.000000\n",
              "                 vivo V15                       93.000000\n",
              "                 vivo V9                        38.000000\n",
              "                 vivo Y17                       85.000000\n",
              "Name: Total Sold, Length: 3089, dtype: float64"
            ]
          },
          "metadata": {
            "tags": []
          },
          "execution_count": 68
        }
      ]
    },
    {
      "cell_type": "markdown",
      "metadata": {
        "id": "LQoyoP4Bph6X"
      },
      "source": [
        "Sort data to see total sold phones per each cities"
      ]
    },
    {
      "cell_type": "code",
      "metadata": {
        "colab": {
          "base_uri": "https://localhost:8080/",
          "height": 1000
        },
        "id": "zqjMM_AGoyvN",
        "outputId": "21a2ec77-fe1d-4b23-dc49-785bbd5f107e"
      },
      "source": [
        "phonesales_sort =phone_sales.sort_values(by=[\"Merchant City\",\"Total Sold\"], ascending=[True,False])\n",
        "phonesales_sort"
      ],
      "execution_count": 73,
      "outputs": [
        {
          "output_type": "execute_result",
          "data": {
            "text/html": [
              "<div>\n",
              "<style scoped>\n",
              "    .dataframe tbody tr th:only-of-type {\n",
              "        vertical-align: middle;\n",
              "    }\n",
              "\n",
              "    .dataframe tbody tr th {\n",
              "        vertical-align: top;\n",
              "    }\n",
              "\n",
              "    .dataframe thead th {\n",
              "        text-align: right;\n",
              "    }\n",
              "</style>\n",
              "<table border=\"1\" class=\"dataframe\">\n",
              "  <thead>\n",
              "    <tr style=\"text-align: right;\">\n",
              "      <th></th>\n",
              "      <th>Date</th>\n",
              "      <th>Product Name</th>\n",
              "      <th>Product ID</th>\n",
              "      <th>Merchant Code</th>\n",
              "      <th>Merchant Badge</th>\n",
              "      <th>Product Type</th>\n",
              "      <th>Merchant City</th>\n",
              "      <th>Cash Payment</th>\n",
              "      <th>Price</th>\n",
              "      <th>Stock</th>\n",
              "      <th>Daily GMV</th>\n",
              "      <th>Daily Sold</th>\n",
              "      <th>Daily View</th>\n",
              "      <th>rating</th>\n",
              "      <th>Total View</th>\n",
              "      <th>Total Sold</th>\n",
              "    </tr>\n",
              "  </thead>\n",
              "  <tbody>\n",
              "    <tr>\n",
              "      <th>23006</th>\n",
              "      <td>4/28/2020</td>\n",
              "      <td>XIAOMI REDMI NOTE 8 PRO RAM 6GB ROM 128GB GARA...</td>\n",
              "      <td>F2868</td>\n",
              "      <td>920.0</td>\n",
              "      <td>PM</td>\n",
              "      <td>Xiaomi Redmi Note 8 Pro</td>\n",
              "      <td>Kab. Badung</td>\n",
              "      <td>False</td>\n",
              "      <td>3280000</td>\n",
              "      <td>2</td>\n",
              "      <td>3280000</td>\n",
              "      <td>1</td>\n",
              "      <td>66</td>\n",
              "      <td>100</td>\n",
              "      <td>25</td>\n",
              "      <td>64</td>\n",
              "    </tr>\n",
              "    <tr>\n",
              "      <th>23114</th>\n",
              "      <td>4/23/2020</td>\n",
              "      <td>XIAOMI REDMI NOTE 8 PRO RAM 6GB ROM 128GB GARA...</td>\n",
              "      <td>F2868</td>\n",
              "      <td>920.0</td>\n",
              "      <td>PM</td>\n",
              "      <td>Xiaomi Redmi Note 8 Pro</td>\n",
              "      <td>Kab. Badung</td>\n",
              "      <td>False</td>\n",
              "      <td>3280000</td>\n",
              "      <td>4</td>\n",
              "      <td>42640000</td>\n",
              "      <td>13</td>\n",
              "      <td>2211</td>\n",
              "      <td>100</td>\n",
              "      <td>20</td>\n",
              "      <td>61</td>\n",
              "    </tr>\n",
              "    <tr>\n",
              "      <th>22961</th>\n",
              "      <td>4/19/2020</td>\n",
              "      <td>XIAOMI REDMI NOTE 8 PRO RAM 6GB ROM 128GB GARA...</td>\n",
              "      <td>F2843</td>\n",
              "      <td>920.0</td>\n",
              "      <td>PM</td>\n",
              "      <td>Xiaomi Redmi Note 8 Pro</td>\n",
              "      <td>Kab. Badung</td>\n",
              "      <td>False</td>\n",
              "      <td>3295000</td>\n",
              "      <td>2</td>\n",
              "      <td>0</td>\n",
              "      <td>0</td>\n",
              "      <td>75</td>\n",
              "      <td>100</td>\n",
              "      <td>19</td>\n",
              "      <td>60</td>\n",
              "    </tr>\n",
              "    <tr>\n",
              "      <th>22981</th>\n",
              "      <td>4/18/2020</td>\n",
              "      <td>XIAOMI REDMI NOTE 8 PRO RAM 6GB ROM 128GB GARA...</td>\n",
              "      <td>F2843</td>\n",
              "      <td>920.0</td>\n",
              "      <td>PM</td>\n",
              "      <td>Xiaomi Redmi Note 8 Pro</td>\n",
              "      <td>Kab. Badung</td>\n",
              "      <td>False</td>\n",
              "      <td>3295000</td>\n",
              "      <td>2</td>\n",
              "      <td>13180000</td>\n",
              "      <td>4</td>\n",
              "      <td>247</td>\n",
              "      <td>100</td>\n",
              "      <td>19</td>\n",
              "      <td>60</td>\n",
              "    </tr>\n",
              "    <tr>\n",
              "      <th>23162</th>\n",
              "      <td>4/7/2020</td>\n",
              "      <td>XIAOMI REDMI NOTE 8 PRO RAM 6GB ROM 128GB GARA...</td>\n",
              "      <td>F2880</td>\n",
              "      <td>920.0</td>\n",
              "      <td>PM</td>\n",
              "      <td>Xiaomi Redmi Note 8 Pro</td>\n",
              "      <td>Kab. Badung</td>\n",
              "      <td>False</td>\n",
              "      <td>3289000</td>\n",
              "      <td>1</td>\n",
              "      <td>6578000</td>\n",
              "      <td>2</td>\n",
              "      <td>215</td>\n",
              "      <td>100</td>\n",
              "      <td>17</td>\n",
              "      <td>51</td>\n",
              "    </tr>\n",
              "    <tr>\n",
              "      <th>...</th>\n",
              "      <td>...</td>\n",
              "      <td>...</td>\n",
              "      <td>...</td>\n",
              "      <td>...</td>\n",
              "      <td>...</td>\n",
              "      <td>...</td>\n",
              "      <td>...</td>\n",
              "      <td>...</td>\n",
              "      <td>...</td>\n",
              "      <td>...</td>\n",
              "      <td>...</td>\n",
              "      <td>...</td>\n",
              "      <td>...</td>\n",
              "      <td>...</td>\n",
              "      <td>...</td>\n",
              "      <td>...</td>\n",
              "    </tr>\n",
              "    <tr>\n",
              "      <th>1336</th>\n",
              "      <td>4/25/2020</td>\n",
              "      <td>iPhone 5C - Putih</td>\n",
              "      <td>D110</td>\n",
              "      <td>394.0</td>\n",
              "      <td>RM</td>\n",
              "      <td>Apple iPhone 5c</td>\n",
              "      <td>Kota Yogyakarta</td>\n",
              "      <td>False</td>\n",
              "      <td>2000000</td>\n",
              "      <td>999999</td>\n",
              "      <td>0</td>\n",
              "      <td>0</td>\n",
              "      <td>1</td>\n",
              "      <td>100</td>\n",
              "      <td>3</td>\n",
              "      <td>3</td>\n",
              "    </tr>\n",
              "    <tr>\n",
              "      <th>1347</th>\n",
              "      <td>4/30/2020</td>\n",
              "      <td>iPhone 5C - Putih</td>\n",
              "      <td>D110</td>\n",
              "      <td>394.0</td>\n",
              "      <td>RM</td>\n",
              "      <td>Apple iPhone 5c</td>\n",
              "      <td>Kota Yogyakarta</td>\n",
              "      <td>False</td>\n",
              "      <td>2000000</td>\n",
              "      <td>999999</td>\n",
              "      <td>0</td>\n",
              "      <td>0</td>\n",
              "      <td>1</td>\n",
              "      <td>100</td>\n",
              "      <td>3</td>\n",
              "      <td>3</td>\n",
              "    </tr>\n",
              "    <tr>\n",
              "      <th>14617</th>\n",
              "      <td>4/26/2020</td>\n",
              "      <td>Link PO IPhone 11 Red 128GB BNIB Khusus Jogja</td>\n",
              "      <td>E2244</td>\n",
              "      <td>3185.0</td>\n",
              "      <td>PM</td>\n",
              "      <td>Apple iPhone 11</td>\n",
              "      <td>Kota Yogyakarta</td>\n",
              "      <td>False</td>\n",
              "      <td>13250000</td>\n",
              "      <td>7</td>\n",
              "      <td>0</td>\n",
              "      <td>0</td>\n",
              "      <td>3</td>\n",
              "      <td>100</td>\n",
              "      <td>3</td>\n",
              "      <td>3</td>\n",
              "    </tr>\n",
              "    <tr>\n",
              "      <th>14752</th>\n",
              "      <td>4/18/2020</td>\n",
              "      <td>Link PO IPhone 11 Red 128GB BNIB Khusus Jogja</td>\n",
              "      <td>E2244</td>\n",
              "      <td>3185.0</td>\n",
              "      <td>PM</td>\n",
              "      <td>Apple iPhone 11</td>\n",
              "      <td>Kota Yogyakarta</td>\n",
              "      <td>False</td>\n",
              "      <td>13250000</td>\n",
              "      <td>7</td>\n",
              "      <td>0</td>\n",
              "      <td>0</td>\n",
              "      <td>4</td>\n",
              "      <td>100</td>\n",
              "      <td>3</td>\n",
              "      <td>3</td>\n",
              "    </tr>\n",
              "    <tr>\n",
              "      <th>1477</th>\n",
              "      <td>4/21/2020</td>\n",
              "      <td>iphone 5s - Putih</td>\n",
              "      <td>C154</td>\n",
              "      <td>441.0</td>\n",
              "      <td>RM</td>\n",
              "      <td>Apple iPhone 5s</td>\n",
              "      <td>Kota Yogyakarta</td>\n",
              "      <td>False</td>\n",
              "      <td>2000000</td>\n",
              "      <td>999999</td>\n",
              "      <td>0</td>\n",
              "      <td>0</td>\n",
              "      <td>2</td>\n",
              "      <td>100</td>\n",
              "      <td>2</td>\n",
              "      <td>2</td>\n",
              "    </tr>\n",
              "  </tbody>\n",
              "</table>\n",
              "<p>26014 rows × 16 columns</p>\n",
              "</div>"
            ],
            "text/plain": [
              "            Date  ... Total Sold\n",
              "23006  4/28/2020  ...         64\n",
              "23114  4/23/2020  ...         61\n",
              "22961  4/19/2020  ...         60\n",
              "22981  4/18/2020  ...         60\n",
              "23162   4/7/2020  ...         51\n",
              "...          ...  ...        ...\n",
              "1336   4/25/2020  ...          3\n",
              "1347   4/30/2020  ...          3\n",
              "14617  4/26/2020  ...          3\n",
              "14752  4/18/2020  ...          3\n",
              "1477   4/21/2020  ...          2\n",
              "\n",
              "[26014 rows x 16 columns]"
            ]
          },
          "metadata": {
            "tags": []
          },
          "execution_count": 73
        }
      ]
    }
  ]
}